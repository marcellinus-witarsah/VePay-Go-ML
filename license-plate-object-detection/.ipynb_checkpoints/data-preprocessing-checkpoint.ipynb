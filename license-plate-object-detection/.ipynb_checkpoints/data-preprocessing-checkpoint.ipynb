{
 "cells": [
  {
   "cell_type": "markdown",
   "id": "b50ec098",
   "metadata": {},
   "source": [
    "# Data Preprocessing\n",
    "This python notebook is just a code for changing any file type of images into a .jpg file which is a format that is acceptable for roboflow"
   ]
  },
  {
   "cell_type": "code",
   "execution_count": 1,
   "id": "cd4334b1",
   "metadata": {},
   "outputs": [],
   "source": [
    "import os"
   ]
  },
  {
   "cell_type": "markdown",
   "id": "c788ece9",
   "metadata": {},
   "source": [
    "## Changing all data to .jpg format"
   ]
  },
  {
   "cell_type": "code",
   "execution_count": 18,
   "id": "331f34a9",
   "metadata": {},
   "outputs": [],
   "source": [
    "\n",
    "DATA_LOCATION = os.path.join(os.getced(), 'images-with-car-20220519T015533Z-001', 'images-with-car')"
   ]
  },
  {
   "cell_type": "markdown",
   "id": "ec9e50c5",
   "metadata": {},
   "source": [
    "Find any type of file extension in the data folder"
   ]
  },
  {
   "cell_type": "code",
   "execution_count": 78,
   "id": "6f85da00",
   "metadata": {},
   "outputs": [],
   "source": [
    "dict_ext = {}\n",
    "for file in os.listdir(DATA_LOCATION):\n",
    "    ext = str(file).split('.')[-1]\n",
    "    if ext not in dict_ext.keys():\n",
    "        dict_ext[ext] = 1\n",
    "    else:\n",
    "        dict_ext[ext] += 1"
   ]
  },
  {
   "cell_type": "code",
   "execution_count": 79,
   "id": "ff9c11b7",
   "metadata": {
    "scrolled": true
   },
   "outputs": [
    {
     "data": {
      "text/plain": [
       "{'jpg': 1398}"
      ]
     },
     "execution_count": 79,
     "metadata": {},
     "output_type": "execute_result"
    }
   ],
   "source": [
    "dict_ext"
   ]
  },
  {
   "cell_type": "markdown",
   "id": "f0372acf",
   "metadata": {},
   "source": [
    "Changing the type"
   ]
  },
  {
   "cell_type": "code",
   "execution_count": 76,
   "id": "0e20ad6e",
   "metadata": {},
   "outputs": [],
   "source": [
    "import os\n",
    "from PIL import Image\n",
    "\n",
    "# run this code just once\n",
    "for file in os.listdir(DATA_LOCATION):\n",
    "    ext = str(file).split('.')[-1]\n",
    "    file_location = os.path.join(DATA_LOCATION, file)\n",
    "    file_name = file.replace('.'+ext, '').strip()\n",
    "    export_location = ''\n",
    "    if ext in ['png', 'JPG', 'jpeg', 'webp']:\n",
    "        img = Image.open(file_location)\n",
    "        rgb_img = img.convert('RGB')\n",
    "        print(rgb_img)\n",
    "        export_location = os.path.join(DATA_LOCATION, file_name+'.jpg')\n",
    "        rgb_img.save(export_location)\n",
    "        os.remove(file_location)"
   ]
  },
  {
   "cell_type": "code",
   "execution_count": 77,
   "id": "d096a9e1",
   "metadata": {},
   "outputs": [
    {
     "data": {
      "text/plain": [
       "1398"
      ]
     },
     "execution_count": 77,
     "metadata": {},
     "output_type": "execute_result"
    }
   ],
   "source": [
    "len(os.listdir(DATA_LOCATION))"
   ]
  },
  {
   "cell_type": "code",
   "execution_count": 5,
   "id": "519fe5ea",
   "metadata": {},
   "outputs": [
    {
     "name": "stdout",
     "output_type": "stream",
     "text": [
      "object centroids = \n",
      " [[0.37454012 0.95071431]\n",
      " [0.73199394 0.59865848]]\n",
      "centroids = \n",
      " [[0.15601864 0.15599452]\n",
      " [0.05808361 0.86617615]\n",
      " [0.60111501 0.70807258]]\n",
      "[[0.82421549 0.32755369 0.33198071]\n",
      " [0.72642889 0.72506609 0.17058938]]\n"
     ]
    }
   ],
   "source": [
    "from scipy.spatial import distance as dist\n",
    "import numpy as np\n",
    "np.random.seed(42)\n",
    "objectCentroids = np.random.uniform(size=(2, 2))\n",
    "print(\"object centroids = \\n\", objectCentroids)\n",
    "centroids = np.random.uniform(size=(3, 2))\n",
    "print(\"centroids = \\n\",centroids)\n",
    "D = dist.cdist(objectCentroids, centroids)\n",
    "print(\"\\n\", D)"
   ]
  }
 ],
 "metadata": {
  "kernelspec": {
   "display_name": "license-plate-object-detection (pipenv)",
   "language": "python",
   "name": "python3"
  },
  "language_info": {
   "codemirror_mode": {
    "name": "ipython",
    "version": 3
   },
   "file_extension": ".py",
   "mimetype": "text/x-python",
   "name": "python",
   "nbconvert_exporter": "python",
   "pygments_lexer": "ipython3",
   "version": "3.8.6"
  }
 },
 "nbformat": 4,
 "nbformat_minor": 5
}
