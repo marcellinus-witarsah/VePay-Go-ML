{
  "nbformat": 4,
  "nbformat_minor": 0,
  "metadata": {
    "colab": {
      "name": "OCR.ipynb",
      "provenance": []
    },
    "kernelspec": {
      "name": "python3",
      "display_name": "Python 3"
    },
    "language_info": {
      "name": "python"
    }
  },
  "cells": [
    {
      "cell_type": "markdown",
      "source": [
        "# Processing Dataset"
      ],
      "metadata": {
        "id": "LR4dch4aLFes"
      }
    },
    {
      "cell_type": "code",
      "source": [
        "# Download dataset\n",
        "!wget https://github.com/pragatiunna/License-Plate-Number-Detection/raw/main/data.zip"
      ],
      "metadata": {
        "colab": {
          "base_uri": "https://localhost:8080/"
        },
        "id": "bc8W0BTrLgyw",
        "outputId": "1373c843-bf8f-4d02-8ad0-7c79732d7cba"
      },
      "execution_count": 1,
      "outputs": [
        {
          "output_type": "stream",
          "name": "stdout",
          "text": [
            "--2022-05-21 14:17:30--  https://github.com/pragatiunna/License-Plate-Number-Detection/raw/main/data.zip\n",
            "Resolving github.com (github.com)... 140.82.113.3\n",
            "Connecting to github.com (github.com)|140.82.113.3|:443... connected.\n",
            "HTTP request sent, awaiting response... 302 Found\n",
            "Location: https://raw.githubusercontent.com/pragatiunna/License-Plate-Number-Detection/main/data.zip [following]\n",
            "--2022-05-21 14:17:30--  https://raw.githubusercontent.com/pragatiunna/License-Plate-Number-Detection/main/data.zip\n",
            "Resolving raw.githubusercontent.com (raw.githubusercontent.com)... 185.199.108.133, 185.199.109.133, 185.199.110.133, ...\n",
            "Connecting to raw.githubusercontent.com (raw.githubusercontent.com)|185.199.108.133|:443... connected.\n",
            "HTTP request sent, awaiting response... 200 OK\n",
            "Length: 1444032 (1.4M) [application/zip]\n",
            "Saving to: ‘data.zip’\n",
            "\n",
            "data.zip            100%[===================>]   1.38M  --.-KB/s    in 0.02s   \n",
            "\n",
            "2022-05-21 14:17:30 (76.5 MB/s) - ‘data.zip’ saved [1444032/1444032]\n",
            "\n"
          ]
        }
      ]
    },
    {
      "cell_type": "code",
      "source": [
        "import zipfile\n",
        "\n",
        "# Extract the archive\n",
        "local_zip = './data.zip'\n",
        "zip_ref = zipfile.ZipFile(local_zip, 'r')\n",
        "zip_ref.extractall('tmp/data')\n",
        "zip_ref.close()"
      ],
      "metadata": {
        "id": "0mXowBp1MRbl"
      },
      "execution_count": 2,
      "outputs": []
    },
    {
      "cell_type": "code",
      "source": [
        "import os\n",
        "\n",
        "base_dir = 'tmp/data/data/train'\n",
        "\n",
        "class_0_dir = os.path.join(base_dir, 'class_0')\n",
        "class_1_dir = os.path.join(base_dir, 'class_1')\n",
        "class_Z_dir = os.path.join(base_dir, 'class_Z')\n",
        "\n",
        "print('total training 0 images:', len(os.listdir(class_0_dir)))\n",
        "print('total training 1 images:', len(os.listdir(class_1_dir)))\n",
        "print('total training Z images:', len(os.listdir(class_Z_dir)))\n",
        "\n",
        "class_0_files = os.listdir(class_0_dir)\n",
        "print(class_0_files[:10])\n",
        "\n",
        "class_1_files = os.listdir(class_1_dir)\n",
        "print(class_1_files[:10])\n",
        "\n",
        "class_Z_files = os.listdir(class_Z_dir)\n",
        "print(class_Z_files[:10])"
      ],
      "metadata": {
        "colab": {
          "base_uri": "https://localhost:8080/"
        },
        "id": "H7EtWK_SXGem",
        "outputId": "24ebbc44-ad55-4b81-8d7e-4ecdd8d0fad1"
      },
      "execution_count": 3,
      "outputs": [
        {
          "output_type": "stream",
          "name": "stdout",
          "text": [
            "total training 0 images: 24\n",
            "total training 1 images: 24\n",
            "total training Z images: 24\n",
            "['class_0_13.jpg', 'class_0_10.jpg', 'class_0_7.jpg', 'class_0_15.jpg', 'class_0_6.jpg', 'class_0_5.jpg', 'class_0_14.jpg', 'class_0_8.jpg', 'class_0_23.jpg', 'class_0_24.jpg']\n",
            "['class_1_2.jpg', 'class_1_22.jpg', 'class_1_6.jpg', 'class_1_18.jpg', 'class_1_4.jpg', 'class_1_7.jpg', 'class_1_23.jpg', 'class_1_8.jpg', 'class_1_13.jpg', 'class_1_26.jpg']\n",
            "['class_Z_23.jpg', 'class_Z_22.jpg', 'class_Z_13.jpg', 'class_Z_11.jpg', 'class_Z_29.jpg', 'class_Z_10.jpg', 'class_Z_25.jpg', 'class_Z_20.jpg', 'class_Z_8.jpg', 'class_Z_24.jpg']\n"
          ]
        }
      ]
    },
    {
      "cell_type": "markdown",
      "source": [
        "# Model"
      ],
      "metadata": {
        "id": "2VKv804GZC0n"
      }
    },
    {
      "cell_type": "code",
      "source": [
        "import tensorflow as tf\n",
        "\n",
        "model = tf.keras.models.Sequential([\n",
        "    # Note the input shape is the desired size of the image 150x150 with 3 bytes color\n",
        "    # This is the first convolution\n",
        "    tf.keras.layers.Conv2D(32, (3,3), activation='relu', input_shape=(28, 28, 3)),\n",
        "    tf.keras.layers.MaxPooling2D(2, 2),\n",
        "    # Flatten the results to feed into a DNN\n",
        "    tf.keras.layers.Flatten(),\n",
        "    # 512 neuron hidden layer\n",
        "    tf.keras.layers.Dense(64, activation='relu'),\n",
        "    tf.keras.layers.Dense(36, activation='softmax')\n",
        "])\n",
        "\n",
        "# Print the model summary\n",
        "model.summary()"
      ],
      "metadata": {
        "colab": {
          "base_uri": "https://localhost:8080/"
        },
        "id": "eLGEVLHKZFb6",
        "outputId": "67012068-3660-4f33-d978-e8d682f40a1e"
      },
      "execution_count": 14,
      "outputs": [
        {
          "output_type": "stream",
          "name": "stdout",
          "text": [
            "Model: \"sequential_5\"\n",
            "_________________________________________________________________\n",
            " Layer (type)                Output Shape              Param #   \n",
            "=================================================================\n",
            " conv2d_3 (Conv2D)           (None, 26, 26, 32)        896       \n",
            "                                                                 \n",
            " max_pooling2d_2 (MaxPooling  (None, 13, 13, 32)       0         \n",
            " 2D)                                                             \n",
            "                                                                 \n",
            " flatten_5 (Flatten)         (None, 5408)              0         \n",
            "                                                                 \n",
            " dense_10 (Dense)            (None, 64)                346176    \n",
            "                                                                 \n",
            " dense_11 (Dense)            (None, 36)                2340      \n",
            "                                                                 \n",
            "=================================================================\n",
            "Total params: 349,412\n",
            "Trainable params: 349,412\n",
            "Non-trainable params: 0\n",
            "_________________________________________________________________\n"
          ]
        }
      ]
    },
    {
      "cell_type": "code",
      "source": [
        "# Set the training parameters\n",
        "model.compile(loss = 'sparse_categorical_crossentropy', optimizer='rmsprop', metrics=['accuracy'])"
      ],
      "metadata": {
        "id": "V9PwAe06ZqYk"
      },
      "execution_count": 15,
      "outputs": []
    },
    {
      "cell_type": "markdown",
      "source": [
        "# Image Preprocessing"
      ],
      "metadata": {
        "id": "oCuWmzwRbicY"
      }
    },
    {
      "cell_type": "code",
      "source": [
        "from keras_preprocessing.image import ImageDataGenerator\n",
        "\n",
        "TRAINING_DIR = \"tmp/data/data/train\"\n",
        "training_datagen = ImageDataGenerator(rescale=1./255,\n",
        "\t    rotation_range=40,\n",
        "      width_shift_range=0.2,\n",
        "      height_shift_range=0.2,\n",
        "      shear_range=0.2,\n",
        "      zoom_range=0.2,\n",
        "      horizontal_flip=True,\n",
        "      fill_mode='nearest')\n",
        "\n",
        "VALIDATION_DIR = \"tmp/data/data/val\"\n",
        "validation_datagen = ImageDataGenerator(rescale=1./255)\n",
        "\n",
        "train_generator = training_datagen.flow_from_directory(\n",
        "\tTRAINING_DIR,\n",
        "\ttarget_size=(28,28),\n",
        "\tclass_mode='sparse',\n",
        "  batch_size=62\n",
        ")\n",
        "\n",
        "validation_generator = validation_datagen.flow_from_directory(\n",
        "\tVALIDATION_DIR,\n",
        "\ttarget_size=(28,28),\n",
        "\tclass_mode='sparse',\n",
        "  batch_size=62\n",
        ")"
      ],
      "metadata": {
        "colab": {
          "base_uri": "https://localhost:8080/"
        },
        "id": "GWMQI22xblM6",
        "outputId": "81767fbf-11e1-42da-8ac7-7c484b4519fa"
      },
      "execution_count": 16,
      "outputs": [
        {
          "output_type": "stream",
          "name": "stdout",
          "text": [
            "Found 864 images belonging to 36 classes.\n",
            "Found 216 images belonging to 36 classes.\n"
          ]
        }
      ]
    },
    {
      "cell_type": "markdown",
      "source": [
        "# Training Model"
      ],
      "metadata": {
        "id": "1nASO7UYcHUQ"
      }
    },
    {
      "cell_type": "code",
      "source": [
        "# Train the model\n",
        "history = model.fit(train_generator, epochs=172, steps_per_epoch=5, validation_data = validation_generator, verbose = 1, validation_steps=2)"
      ],
      "metadata": {
        "colab": {
          "base_uri": "https://localhost:8080/"
        },
        "id": "7kn2JGBgcBx-",
        "outputId": "10d0649d-1c57-4e3e-8190-f23a7a21eef1"
      },
      "execution_count": 19,
      "outputs": [
        {
          "output_type": "stream",
          "name": "stdout",
          "text": [
            "Epoch 1/172\n",
            "5/5 [==============================] - 1s 126ms/step - loss: 1.7440 - accuracy: 0.4548 - val_loss: 1.0515 - val_accuracy: 0.6290\n",
            "Epoch 2/172\n",
            "5/5 [==============================] - 1s 114ms/step - loss: 1.8005 - accuracy: 0.4419 - val_loss: 1.1318 - val_accuracy: 0.6290\n",
            "Epoch 3/172\n",
            "5/5 [==============================] - 1s 125ms/step - loss: 1.7876 - accuracy: 0.4412 - val_loss: 0.9354 - val_accuracy: 0.6452\n",
            "Epoch 4/172\n",
            "5/5 [==============================] - 1s 111ms/step - loss: 1.7057 - accuracy: 0.4355 - val_loss: 0.9656 - val_accuracy: 0.6452\n",
            "Epoch 5/172\n",
            "5/5 [==============================] - 1s 103ms/step - loss: 1.7261 - accuracy: 0.4739 - val_loss: 0.9657 - val_accuracy: 0.6613\n",
            "Epoch 6/172\n",
            "5/5 [==============================] - 1s 116ms/step - loss: 1.6090 - accuracy: 0.4871 - val_loss: 0.8646 - val_accuracy: 0.6855\n",
            "Epoch 7/172\n",
            "5/5 [==============================] - 1s 113ms/step - loss: 1.7195 - accuracy: 0.4608 - val_loss: 0.9396 - val_accuracy: 0.6371\n",
            "Epoch 8/172\n",
            "5/5 [==============================] - 1s 107ms/step - loss: 1.6874 - accuracy: 0.4837 - val_loss: 0.9870 - val_accuracy: 0.6452\n",
            "Epoch 9/172\n",
            "5/5 [==============================] - 1s 113ms/step - loss: 1.8393 - accuracy: 0.4065 - val_loss: 0.9580 - val_accuracy: 0.6613\n",
            "Epoch 10/172\n",
            "5/5 [==============================] - 1s 115ms/step - loss: 1.7706 - accuracy: 0.4355 - val_loss: 0.8386 - val_accuracy: 0.6855\n",
            "Epoch 11/172\n",
            "5/5 [==============================] - 1s 114ms/step - loss: 1.8004 - accuracy: 0.4484 - val_loss: 0.8980 - val_accuracy: 0.6855\n",
            "Epoch 12/172\n",
            "5/5 [==============================] - 1s 125ms/step - loss: 1.5833 - accuracy: 0.5387 - val_loss: 1.0524 - val_accuracy: 0.6048\n",
            "Epoch 13/172\n",
            "5/5 [==============================] - 1s 117ms/step - loss: 1.6839 - accuracy: 0.4871 - val_loss: 0.8931 - val_accuracy: 0.6613\n",
            "Epoch 14/172\n",
            "5/5 [==============================] - 1s 108ms/step - loss: 1.6252 - accuracy: 0.4806 - val_loss: 0.8540 - val_accuracy: 0.7097\n",
            "Epoch 15/172\n",
            "5/5 [==============================] - 1s 115ms/step - loss: 1.6692 - accuracy: 0.4804 - val_loss: 0.9659 - val_accuracy: 0.6532\n",
            "Epoch 16/172\n",
            "5/5 [==============================] - 1s 112ms/step - loss: 1.7371 - accuracy: 0.4771 - val_loss: 0.9596 - val_accuracy: 0.6774\n",
            "Epoch 17/172\n",
            "5/5 [==============================] - 1s 111ms/step - loss: 1.6951 - accuracy: 0.4581 - val_loss: 0.8259 - val_accuracy: 0.7661\n",
            "Epoch 18/172\n",
            "5/5 [==============================] - 1s 115ms/step - loss: 1.6731 - accuracy: 0.4742 - val_loss: 0.9916 - val_accuracy: 0.6532\n",
            "Epoch 19/172\n",
            "5/5 [==============================] - 1s 104ms/step - loss: 1.5930 - accuracy: 0.5065 - val_loss: 1.0505 - val_accuracy: 0.6452\n",
            "Epoch 20/172\n",
            "5/5 [==============================] - 1s 114ms/step - loss: 1.6486 - accuracy: 0.4516 - val_loss: 1.0188 - val_accuracy: 0.7016\n",
            "Epoch 21/172\n",
            "5/5 [==============================] - 1s 108ms/step - loss: 1.6775 - accuracy: 0.4452 - val_loss: 0.8393 - val_accuracy: 0.6774\n",
            "Epoch 22/172\n",
            "5/5 [==============================] - 1s 110ms/step - loss: 1.5994 - accuracy: 0.4839 - val_loss: 0.9697 - val_accuracy: 0.6855\n",
            "Epoch 23/172\n",
            "5/5 [==============================] - 1s 114ms/step - loss: 1.7446 - accuracy: 0.4548 - val_loss: 1.0133 - val_accuracy: 0.6452\n",
            "Epoch 24/172\n",
            "5/5 [==============================] - 1s 113ms/step - loss: 1.6299 - accuracy: 0.4968 - val_loss: 0.8584 - val_accuracy: 0.7177\n",
            "Epoch 25/172\n",
            "5/5 [==============================] - 1s 115ms/step - loss: 1.6433 - accuracy: 0.4641 - val_loss: 0.9180 - val_accuracy: 0.6774\n",
            "Epoch 26/172\n",
            "5/5 [==============================] - 1s 110ms/step - loss: 1.5043 - accuracy: 0.5129 - val_loss: 0.8385 - val_accuracy: 0.6935\n",
            "Epoch 27/172\n",
            "5/5 [==============================] - 1s 106ms/step - loss: 1.6464 - accuracy: 0.4581 - val_loss: 0.8471 - val_accuracy: 0.7258\n",
            "Epoch 28/172\n",
            "5/5 [==============================] - 1s 107ms/step - loss: 1.6680 - accuracy: 0.4484 - val_loss: 0.9642 - val_accuracy: 0.6774\n",
            "Epoch 29/172\n",
            "5/5 [==============================] - 1s 111ms/step - loss: 1.6607 - accuracy: 0.4837 - val_loss: 0.8691 - val_accuracy: 0.7339\n",
            "Epoch 30/172\n",
            "5/5 [==============================] - 1s 120ms/step - loss: 1.6448 - accuracy: 0.4739 - val_loss: 0.9792 - val_accuracy: 0.6694\n",
            "Epoch 31/172\n",
            "5/5 [==============================] - 1s 109ms/step - loss: 1.5497 - accuracy: 0.4548 - val_loss: 0.8481 - val_accuracy: 0.7097\n",
            "Epoch 32/172\n",
            "5/5 [==============================] - 1s 108ms/step - loss: 1.5613 - accuracy: 0.4837 - val_loss: 0.8148 - val_accuracy: 0.6935\n",
            "Epoch 33/172\n",
            "5/5 [==============================] - 1s 112ms/step - loss: 1.6517 - accuracy: 0.4677 - val_loss: 0.9088 - val_accuracy: 0.6855\n",
            "Epoch 34/172\n",
            "5/5 [==============================] - 1s 115ms/step - loss: 1.6167 - accuracy: 0.4935 - val_loss: 0.8687 - val_accuracy: 0.7177\n",
            "Epoch 35/172\n",
            "5/5 [==============================] - 1s 110ms/step - loss: 1.6550 - accuracy: 0.4613 - val_loss: 0.8406 - val_accuracy: 0.6935\n",
            "Epoch 36/172\n",
            "5/5 [==============================] - 1s 118ms/step - loss: 1.4757 - accuracy: 0.5774 - val_loss: 0.9210 - val_accuracy: 0.6532\n",
            "Epoch 37/172\n",
            "5/5 [==============================] - 1s 129ms/step - loss: 1.3763 - accuracy: 0.5710 - val_loss: 0.7926 - val_accuracy: 0.7339\n",
            "Epoch 38/172\n",
            "5/5 [==============================] - 1s 113ms/step - loss: 1.5853 - accuracy: 0.4839 - val_loss: 0.9538 - val_accuracy: 0.6452\n",
            "Epoch 39/172\n",
            "5/5 [==============================] - 1s 107ms/step - loss: 1.6171 - accuracy: 0.5194 - val_loss: 0.8848 - val_accuracy: 0.6613\n",
            "Epoch 40/172\n",
            "5/5 [==============================] - 1s 110ms/step - loss: 1.6578 - accuracy: 0.4673 - val_loss: 0.9140 - val_accuracy: 0.6694\n",
            "Epoch 41/172\n",
            "5/5 [==============================] - 1s 108ms/step - loss: 1.6899 - accuracy: 0.4871 - val_loss: 1.0224 - val_accuracy: 0.6048\n",
            "Epoch 42/172\n",
            "5/5 [==============================] - 1s 114ms/step - loss: 1.5215 - accuracy: 0.5226 - val_loss: 0.8087 - val_accuracy: 0.7339\n",
            "Epoch 43/172\n",
            "5/5 [==============================] - 1s 117ms/step - loss: 1.5053 - accuracy: 0.5194 - val_loss: 0.8459 - val_accuracy: 0.6935\n",
            "Epoch 44/172\n",
            "5/5 [==============================] - 1s 125ms/step - loss: 1.4781 - accuracy: 0.5323 - val_loss: 0.7793 - val_accuracy: 0.7177\n",
            "Epoch 45/172\n",
            "5/5 [==============================] - 1s 117ms/step - loss: 1.5638 - accuracy: 0.5323 - val_loss: 0.8738 - val_accuracy: 0.7258\n",
            "Epoch 46/172\n",
            "5/5 [==============================] - 1s 112ms/step - loss: 1.5172 - accuracy: 0.5258 - val_loss: 0.7629 - val_accuracy: 0.7339\n",
            "Epoch 47/172\n",
            "5/5 [==============================] - 1s 107ms/step - loss: 1.5771 - accuracy: 0.5033 - val_loss: 0.6821 - val_accuracy: 0.7581\n",
            "Epoch 48/172\n",
            "5/5 [==============================] - 1s 109ms/step - loss: 1.4505 - accuracy: 0.5065 - val_loss: 0.9162 - val_accuracy: 0.6935\n",
            "Epoch 49/172\n",
            "5/5 [==============================] - 1s 104ms/step - loss: 1.4240 - accuracy: 0.5654 - val_loss: 0.7620 - val_accuracy: 0.7339\n",
            "Epoch 50/172\n",
            "5/5 [==============================] - 1s 110ms/step - loss: 1.4909 - accuracy: 0.5327 - val_loss: 0.8043 - val_accuracy: 0.7097\n",
            "Epoch 51/172\n",
            "5/5 [==============================] - 1s 108ms/step - loss: 1.4806 - accuracy: 0.5226 - val_loss: 0.8408 - val_accuracy: 0.6855\n",
            "Epoch 52/172\n",
            "5/5 [==============================] - 1s 136ms/step - loss: 1.5717 - accuracy: 0.4774 - val_loss: 0.8212 - val_accuracy: 0.7339\n",
            "Epoch 53/172\n",
            "5/5 [==============================] - 1s 120ms/step - loss: 1.5176 - accuracy: 0.5000 - val_loss: 0.7108 - val_accuracy: 0.7661\n",
            "Epoch 54/172\n",
            "5/5 [==============================] - 1s 119ms/step - loss: 1.5792 - accuracy: 0.4839 - val_loss: 0.7617 - val_accuracy: 0.7339\n",
            "Epoch 55/172\n",
            "5/5 [==============================] - 1s 110ms/step - loss: 1.5605 - accuracy: 0.5131 - val_loss: 0.7887 - val_accuracy: 0.7097\n",
            "Epoch 56/172\n",
            "5/5 [==============================] - 1s 115ms/step - loss: 1.3963 - accuracy: 0.5258 - val_loss: 0.6255 - val_accuracy: 0.7823\n",
            "Epoch 57/172\n",
            "5/5 [==============================] - 1s 107ms/step - loss: 1.5156 - accuracy: 0.5131 - val_loss: 0.7813 - val_accuracy: 0.7419\n",
            "Epoch 58/172\n",
            "5/5 [==============================] - 1s 108ms/step - loss: 1.4872 - accuracy: 0.5196 - val_loss: 0.7830 - val_accuracy: 0.7500\n",
            "Epoch 59/172\n",
            "5/5 [==============================] - 1s 105ms/step - loss: 1.4703 - accuracy: 0.5098 - val_loss: 0.7634 - val_accuracy: 0.7823\n",
            "Epoch 60/172\n",
            "5/5 [==============================] - 1s 118ms/step - loss: 1.5088 - accuracy: 0.5290 - val_loss: 0.7068 - val_accuracy: 0.7661\n",
            "Epoch 61/172\n",
            "5/5 [==============================] - 1s 114ms/step - loss: 1.3746 - accuracy: 0.5903 - val_loss: 0.7185 - val_accuracy: 0.7500\n",
            "Epoch 62/172\n",
            "5/5 [==============================] - 1s 110ms/step - loss: 1.4550 - accuracy: 0.5645 - val_loss: 0.6444 - val_accuracy: 0.7742\n",
            "Epoch 63/172\n",
            "5/5 [==============================] - 1s 113ms/step - loss: 1.4581 - accuracy: 0.5548 - val_loss: 0.5915 - val_accuracy: 0.7984\n",
            "Epoch 64/172\n",
            "5/5 [==============================] - 1s 111ms/step - loss: 1.4476 - accuracy: 0.5129 - val_loss: 0.7072 - val_accuracy: 0.7097\n",
            "Epoch 65/172\n",
            "5/5 [==============================] - 1s 112ms/step - loss: 1.4961 - accuracy: 0.5229 - val_loss: 0.6779 - val_accuracy: 0.7419\n",
            "Epoch 66/172\n",
            "5/5 [==============================] - 1s 110ms/step - loss: 1.6645 - accuracy: 0.4742 - val_loss: 0.7781 - val_accuracy: 0.7177\n",
            "Epoch 67/172\n",
            "5/5 [==============================] - 1s 112ms/step - loss: 1.3577 - accuracy: 0.5581 - val_loss: 0.7188 - val_accuracy: 0.7742\n",
            "Epoch 68/172\n",
            "5/5 [==============================] - 1s 115ms/step - loss: 1.3900 - accuracy: 0.5613 - val_loss: 0.6780 - val_accuracy: 0.7339\n",
            "Epoch 69/172\n",
            "5/5 [==============================] - 1s 105ms/step - loss: 1.5071 - accuracy: 0.5290 - val_loss: 0.6484 - val_accuracy: 0.7661\n",
            "Epoch 70/172\n",
            "5/5 [==============================] - 1s 116ms/step - loss: 1.3093 - accuracy: 0.5806 - val_loss: 0.6323 - val_accuracy: 0.7823\n",
            "Epoch 71/172\n",
            "5/5 [==============================] - 1s 110ms/step - loss: 1.5499 - accuracy: 0.4839 - val_loss: 0.7825 - val_accuracy: 0.7258\n",
            "Epoch 72/172\n",
            "5/5 [==============================] - 1s 189ms/step - loss: 1.3970 - accuracy: 0.5258 - val_loss: 0.8220 - val_accuracy: 0.7258\n",
            "Epoch 73/172\n",
            "5/5 [==============================] - 1s 185ms/step - loss: 1.3816 - accuracy: 0.5784 - val_loss: 0.6314 - val_accuracy: 0.7661\n",
            "Epoch 74/172\n",
            "5/5 [==============================] - 1s 193ms/step - loss: 1.4104 - accuracy: 0.5290 - val_loss: 0.6269 - val_accuracy: 0.8065\n",
            "Epoch 75/172\n",
            "5/5 [==============================] - 1s 125ms/step - loss: 1.3476 - accuracy: 0.5613 - val_loss: 0.8508 - val_accuracy: 0.7016\n",
            "Epoch 76/172\n",
            "5/5 [==============================] - 1s 117ms/step - loss: 1.3859 - accuracy: 0.5194 - val_loss: 0.8029 - val_accuracy: 0.7339\n",
            "Epoch 77/172\n",
            "5/5 [==============================] - 1s 117ms/step - loss: 1.4652 - accuracy: 0.5032 - val_loss: 0.6141 - val_accuracy: 0.7581\n",
            "Epoch 78/172\n",
            "5/5 [==============================] - 1s 121ms/step - loss: 1.4169 - accuracy: 0.5806 - val_loss: 0.6156 - val_accuracy: 0.7823\n",
            "Epoch 79/172\n",
            "5/5 [==============================] - 1s 106ms/step - loss: 1.4261 - accuracy: 0.5645 - val_loss: 0.7363 - val_accuracy: 0.7258\n",
            "Epoch 80/172\n",
            "5/5 [==============================] - 1s 109ms/step - loss: 1.3736 - accuracy: 0.5710 - val_loss: 0.7375 - val_accuracy: 0.7500\n",
            "Epoch 81/172\n",
            "5/5 [==============================] - 1s 114ms/step - loss: 1.4277 - accuracy: 0.5033 - val_loss: 0.8169 - val_accuracy: 0.7500\n",
            "Epoch 82/172\n",
            "5/5 [==============================] - 1s 123ms/step - loss: 1.3346 - accuracy: 0.5806 - val_loss: 0.7824 - val_accuracy: 0.7177\n",
            "Epoch 83/172\n",
            "5/5 [==============================] - 1s 116ms/step - loss: 1.3457 - accuracy: 0.5419 - val_loss: 0.7196 - val_accuracy: 0.7419\n",
            "Epoch 84/172\n",
            "5/5 [==============================] - 1s 112ms/step - loss: 1.3870 - accuracy: 0.5882 - val_loss: 0.8518 - val_accuracy: 0.6935\n",
            "Epoch 85/172\n",
            "5/5 [==============================] - 1s 113ms/step - loss: 1.3753 - accuracy: 0.5677 - val_loss: 0.8932 - val_accuracy: 0.7258\n",
            "Epoch 86/172\n",
            "5/5 [==============================] - 1s 112ms/step - loss: 1.4048 - accuracy: 0.5258 - val_loss: 0.7908 - val_accuracy: 0.6774\n",
            "Epoch 87/172\n",
            "5/5 [==============================] - 1s 115ms/step - loss: 1.4695 - accuracy: 0.5294 - val_loss: 0.8422 - val_accuracy: 0.7016\n",
            "Epoch 88/172\n",
            "5/5 [==============================] - 1s 117ms/step - loss: 1.3723 - accuracy: 0.5710 - val_loss: 0.6536 - val_accuracy: 0.7581\n",
            "Epoch 89/172\n",
            "5/5 [==============================] - 1s 113ms/step - loss: 1.3498 - accuracy: 0.5817 - val_loss: 0.8466 - val_accuracy: 0.6935\n",
            "Epoch 90/172\n",
            "5/5 [==============================] - 1s 118ms/step - loss: 1.3638 - accuracy: 0.5621 - val_loss: 0.6799 - val_accuracy: 0.7581\n",
            "Epoch 91/172\n",
            "5/5 [==============================] - 1s 113ms/step - loss: 1.2827 - accuracy: 0.6129 - val_loss: 0.7329 - val_accuracy: 0.7581\n",
            "Epoch 92/172\n",
            "5/5 [==============================] - 1s 116ms/step - loss: 1.3102 - accuracy: 0.5850 - val_loss: 0.6569 - val_accuracy: 0.7903\n",
            "Epoch 93/172\n",
            "5/5 [==============================] - 1s 112ms/step - loss: 1.3929 - accuracy: 0.5613 - val_loss: 0.8788 - val_accuracy: 0.6290\n",
            "Epoch 94/172\n",
            "5/5 [==============================] - 1s 110ms/step - loss: 1.2959 - accuracy: 0.5710 - val_loss: 0.7455 - val_accuracy: 0.7500\n",
            "Epoch 95/172\n",
            "5/5 [==============================] - 1s 108ms/step - loss: 1.3447 - accuracy: 0.5774 - val_loss: 0.6419 - val_accuracy: 0.7500\n",
            "Epoch 96/172\n",
            "5/5 [==============================] - 1s 107ms/step - loss: 1.4676 - accuracy: 0.5484 - val_loss: 0.8314 - val_accuracy: 0.7177\n",
            "Epoch 97/172\n",
            "5/5 [==============================] - 1s 114ms/step - loss: 1.3449 - accuracy: 0.5621 - val_loss: 0.8294 - val_accuracy: 0.7339\n",
            "Epoch 98/172\n",
            "5/5 [==============================] - 1s 110ms/step - loss: 1.4173 - accuracy: 0.5516 - val_loss: 0.6222 - val_accuracy: 0.8145\n",
            "Epoch 99/172\n",
            "5/5 [==============================] - 1s 118ms/step - loss: 1.2312 - accuracy: 0.6176 - val_loss: 0.6849 - val_accuracy: 0.7661\n",
            "Epoch 100/172\n",
            "5/5 [==============================] - 1s 119ms/step - loss: 1.3758 - accuracy: 0.5588 - val_loss: 0.6193 - val_accuracy: 0.7500\n",
            "Epoch 101/172\n",
            "5/5 [==============================] - 1s 122ms/step - loss: 1.2211 - accuracy: 0.5882 - val_loss: 0.6973 - val_accuracy: 0.7581\n",
            "Epoch 102/172\n",
            "5/5 [==============================] - 1s 113ms/step - loss: 1.4125 - accuracy: 0.5194 - val_loss: 0.6747 - val_accuracy: 0.7581\n",
            "Epoch 103/172\n",
            "5/5 [==============================] - 1s 110ms/step - loss: 1.4178 - accuracy: 0.5419 - val_loss: 0.5700 - val_accuracy: 0.8145\n",
            "Epoch 104/172\n",
            "5/5 [==============================] - 1s 118ms/step - loss: 1.3960 - accuracy: 0.5523 - val_loss: 0.6834 - val_accuracy: 0.7823\n",
            "Epoch 105/172\n",
            "5/5 [==============================] - 1s 115ms/step - loss: 1.3102 - accuracy: 0.5817 - val_loss: 0.7027 - val_accuracy: 0.7823\n",
            "Epoch 106/172\n",
            "5/5 [==============================] - 1s 113ms/step - loss: 1.3576 - accuracy: 0.5654 - val_loss: 0.5431 - val_accuracy: 0.8226\n",
            "Epoch 107/172\n",
            "5/5 [==============================] - 1s 118ms/step - loss: 1.3193 - accuracy: 0.5839 - val_loss: 0.5919 - val_accuracy: 0.8226\n",
            "Epoch 108/172\n",
            "5/5 [==============================] - 1s 113ms/step - loss: 1.3691 - accuracy: 0.5719 - val_loss: 0.7023 - val_accuracy: 0.7581\n",
            "Epoch 109/172\n",
            "5/5 [==============================] - 1s 120ms/step - loss: 1.3212 - accuracy: 0.5613 - val_loss: 0.5907 - val_accuracy: 0.7903\n",
            "Epoch 110/172\n",
            "5/5 [==============================] - 1s 110ms/step - loss: 1.3032 - accuracy: 0.5935 - val_loss: 0.5771 - val_accuracy: 0.7903\n",
            "Epoch 111/172\n",
            "5/5 [==============================] - 1s 116ms/step - loss: 1.2514 - accuracy: 0.5686 - val_loss: 0.7342 - val_accuracy: 0.7177\n",
            "Epoch 112/172\n",
            "5/5 [==============================] - 1s 118ms/step - loss: 1.3242 - accuracy: 0.5784 - val_loss: 0.7808 - val_accuracy: 0.7097\n",
            "Epoch 113/172\n",
            "5/5 [==============================] - 1s 118ms/step - loss: 1.2552 - accuracy: 0.6144 - val_loss: 0.6343 - val_accuracy: 0.7984\n",
            "Epoch 114/172\n",
            "5/5 [==============================] - 1s 120ms/step - loss: 1.2901 - accuracy: 0.5806 - val_loss: 0.5760 - val_accuracy: 0.7823\n",
            "Epoch 115/172\n",
            "5/5 [==============================] - 1s 114ms/step - loss: 1.3822 - accuracy: 0.5452 - val_loss: 0.6634 - val_accuracy: 0.7823\n",
            "Epoch 116/172\n",
            "5/5 [==============================] - 1s 113ms/step - loss: 1.2434 - accuracy: 0.6161 - val_loss: 0.5494 - val_accuracy: 0.8468\n",
            "Epoch 117/172\n",
            "5/5 [==============================] - 1s 118ms/step - loss: 1.3353 - accuracy: 0.5516 - val_loss: 0.5512 - val_accuracy: 0.8468\n",
            "Epoch 118/172\n",
            "5/5 [==============================] - 1s 114ms/step - loss: 1.2917 - accuracy: 0.5484 - val_loss: 0.6409 - val_accuracy: 0.7984\n",
            "Epoch 119/172\n",
            "5/5 [==============================] - 1s 116ms/step - loss: 1.3255 - accuracy: 0.5806 - val_loss: 0.6619 - val_accuracy: 0.7903\n",
            "Epoch 120/172\n",
            "5/5 [==============================] - 1s 112ms/step - loss: 1.3289 - accuracy: 0.5806 - val_loss: 0.7365 - val_accuracy: 0.7177\n",
            "Epoch 121/172\n",
            "5/5 [==============================] - 1s 113ms/step - loss: 1.2645 - accuracy: 0.6013 - val_loss: 0.4916 - val_accuracy: 0.8710\n",
            "Epoch 122/172\n",
            "5/5 [==============================] - 1s 138ms/step - loss: 1.2091 - accuracy: 0.6144 - val_loss: 0.5311 - val_accuracy: 0.7903\n",
            "Epoch 123/172\n",
            "5/5 [==============================] - 1s 121ms/step - loss: 1.1767 - accuracy: 0.5980 - val_loss: 0.5521 - val_accuracy: 0.8065\n",
            "Epoch 124/172\n",
            "5/5 [==============================] - 1s 114ms/step - loss: 1.2231 - accuracy: 0.5882 - val_loss: 0.5536 - val_accuracy: 0.8145\n",
            "Epoch 125/172\n",
            "5/5 [==============================] - 1s 118ms/step - loss: 1.3462 - accuracy: 0.6000 - val_loss: 0.6117 - val_accuracy: 0.8065\n",
            "Epoch 126/172\n",
            "5/5 [==============================] - 1s 119ms/step - loss: 1.3391 - accuracy: 0.5817 - val_loss: 0.6000 - val_accuracy: 0.8145\n",
            "Epoch 127/172\n",
            "5/5 [==============================] - 1s 112ms/step - loss: 1.2720 - accuracy: 0.5774 - val_loss: 0.6264 - val_accuracy: 0.7500\n",
            "Epoch 128/172\n",
            "5/5 [==============================] - 1s 111ms/step - loss: 1.2832 - accuracy: 0.5980 - val_loss: 0.6850 - val_accuracy: 0.7258\n",
            "Epoch 129/172\n",
            "5/5 [==============================] - 1s 120ms/step - loss: 1.3470 - accuracy: 0.5784 - val_loss: 0.5947 - val_accuracy: 0.7903\n",
            "Epoch 130/172\n",
            "5/5 [==============================] - 1s 122ms/step - loss: 1.3957 - accuracy: 0.5613 - val_loss: 0.6102 - val_accuracy: 0.7823\n",
            "Epoch 131/172\n",
            "5/5 [==============================] - 1s 107ms/step - loss: 1.2305 - accuracy: 0.6065 - val_loss: 0.5341 - val_accuracy: 0.7984\n",
            "Epoch 132/172\n",
            "5/5 [==============================] - 1s 118ms/step - loss: 1.0595 - accuracy: 0.6258 - val_loss: 0.5858 - val_accuracy: 0.8145\n",
            "Epoch 133/172\n",
            "5/5 [==============================] - 1s 118ms/step - loss: 1.2636 - accuracy: 0.5806 - val_loss: 0.6644 - val_accuracy: 0.7661\n",
            "Epoch 134/172\n",
            "5/5 [==============================] - 1s 118ms/step - loss: 1.2671 - accuracy: 0.6129 - val_loss: 0.5460 - val_accuracy: 0.8306\n",
            "Epoch 135/172\n",
            "5/5 [==============================] - 1s 117ms/step - loss: 1.2374 - accuracy: 0.5903 - val_loss: 0.5596 - val_accuracy: 0.8065\n",
            "Epoch 136/172\n",
            "5/5 [==============================] - 1s 115ms/step - loss: 1.2057 - accuracy: 0.5686 - val_loss: 0.5998 - val_accuracy: 0.8226\n",
            "Epoch 137/172\n",
            "5/5 [==============================] - 1s 114ms/step - loss: 1.0877 - accuracy: 0.6452 - val_loss: 0.6813 - val_accuracy: 0.7903\n",
            "Epoch 138/172\n",
            "5/5 [==============================] - 1s 115ms/step - loss: 1.2080 - accuracy: 0.6161 - val_loss: 0.5768 - val_accuracy: 0.8065\n",
            "Epoch 139/172\n",
            "5/5 [==============================] - 1s 108ms/step - loss: 1.1609 - accuracy: 0.5948 - val_loss: 0.5348 - val_accuracy: 0.7984\n",
            "Epoch 140/172\n",
            "5/5 [==============================] - 1s 110ms/step - loss: 1.3132 - accuracy: 0.5484 - val_loss: 0.6223 - val_accuracy: 0.7903\n",
            "Epoch 141/172\n",
            "5/5 [==============================] - 1s 116ms/step - loss: 1.2034 - accuracy: 0.5817 - val_loss: 0.6534 - val_accuracy: 0.7903\n",
            "Epoch 142/172\n",
            "5/5 [==============================] - 1s 114ms/step - loss: 1.0759 - accuracy: 0.6290 - val_loss: 0.7627 - val_accuracy: 0.7177\n",
            "Epoch 143/172\n",
            "5/5 [==============================] - 1s 116ms/step - loss: 1.2466 - accuracy: 0.5588 - val_loss: 0.6390 - val_accuracy: 0.7903\n",
            "Epoch 144/172\n",
            "5/5 [==============================] - 1s 119ms/step - loss: 1.1741 - accuracy: 0.6032 - val_loss: 0.5889 - val_accuracy: 0.7581\n",
            "Epoch 145/172\n",
            "5/5 [==============================] - 1s 118ms/step - loss: 1.1327 - accuracy: 0.6405 - val_loss: 0.6737 - val_accuracy: 0.7500\n",
            "Epoch 146/172\n",
            "5/5 [==============================] - 1s 121ms/step - loss: 1.1887 - accuracy: 0.6129 - val_loss: 0.5713 - val_accuracy: 0.7742\n",
            "Epoch 147/172\n",
            "5/5 [==============================] - 1s 119ms/step - loss: 1.1368 - accuracy: 0.5935 - val_loss: 0.6487 - val_accuracy: 0.7661\n",
            "Epoch 148/172\n",
            "5/5 [==============================] - 1s 121ms/step - loss: 1.2167 - accuracy: 0.6258 - val_loss: 0.6331 - val_accuracy: 0.7742\n",
            "Epoch 149/172\n",
            "5/5 [==============================] - 1s 115ms/step - loss: 1.1741 - accuracy: 0.6258 - val_loss: 0.6436 - val_accuracy: 0.7177\n",
            "Epoch 150/172\n",
            "5/5 [==============================] - 1s 114ms/step - loss: 1.2609 - accuracy: 0.5948 - val_loss: 0.6391 - val_accuracy: 0.7339\n",
            "Epoch 151/172\n",
            "5/5 [==============================] - 1s 109ms/step - loss: 1.2734 - accuracy: 0.5817 - val_loss: 0.5592 - val_accuracy: 0.8226\n",
            "Epoch 152/172\n",
            "5/5 [==============================] - 1s 111ms/step - loss: 1.2848 - accuracy: 0.5968 - val_loss: 0.7191 - val_accuracy: 0.7419\n",
            "Epoch 153/172\n",
            "5/5 [==============================] - 1s 110ms/step - loss: 1.1236 - accuracy: 0.6581 - val_loss: 0.6391 - val_accuracy: 0.7984\n",
            "Epoch 154/172\n",
            "5/5 [==============================] - 1s 123ms/step - loss: 1.1782 - accuracy: 0.5871 - val_loss: 0.6120 - val_accuracy: 0.7984\n",
            "Epoch 155/172\n",
            "5/5 [==============================] - 1s 116ms/step - loss: 1.1754 - accuracy: 0.6065 - val_loss: 0.6389 - val_accuracy: 0.7823\n",
            "Epoch 156/172\n",
            "5/5 [==============================] - 1s 110ms/step - loss: 1.1615 - accuracy: 0.6000 - val_loss: 0.5193 - val_accuracy: 0.8548\n",
            "Epoch 157/172\n",
            "5/5 [==============================] - 1s 110ms/step - loss: 1.2131 - accuracy: 0.5774 - val_loss: 0.7522 - val_accuracy: 0.7177\n",
            "Epoch 158/172\n",
            "5/5 [==============================] - 1s 107ms/step - loss: 1.2622 - accuracy: 0.5935 - val_loss: 0.6910 - val_accuracy: 0.7339\n",
            "Epoch 159/172\n",
            "5/5 [==============================] - 1s 115ms/step - loss: 1.1226 - accuracy: 0.6097 - val_loss: 0.6339 - val_accuracy: 0.7823\n",
            "Epoch 160/172\n",
            "5/5 [==============================] - 1s 117ms/step - loss: 1.1371 - accuracy: 0.6194 - val_loss: 0.5766 - val_accuracy: 0.8387\n",
            "Epoch 161/172\n",
            "5/5 [==============================] - 1s 116ms/step - loss: 1.1993 - accuracy: 0.5903 - val_loss: 0.6033 - val_accuracy: 0.7823\n",
            "Epoch 162/172\n",
            "5/5 [==============================] - 1s 118ms/step - loss: 1.1064 - accuracy: 0.6484 - val_loss: 0.6128 - val_accuracy: 0.8065\n",
            "Epoch 163/172\n",
            "5/5 [==============================] - 1s 119ms/step - loss: 1.0782 - accuracy: 0.6323 - val_loss: 0.6164 - val_accuracy: 0.7823\n",
            "Epoch 164/172\n",
            "5/5 [==============================] - 1s 114ms/step - loss: 1.2615 - accuracy: 0.6275 - val_loss: 0.6007 - val_accuracy: 0.7742\n",
            "Epoch 165/172\n",
            "5/5 [==============================] - 1s 108ms/step - loss: 1.1702 - accuracy: 0.6340 - val_loss: 0.6508 - val_accuracy: 0.7419\n",
            "Epoch 166/172\n",
            "5/5 [==============================] - 1s 122ms/step - loss: 1.1269 - accuracy: 0.5968 - val_loss: 0.4979 - val_accuracy: 0.8468\n",
            "Epoch 167/172\n",
            "5/5 [==============================] - 1s 113ms/step - loss: 1.2475 - accuracy: 0.5903 - val_loss: 0.6128 - val_accuracy: 0.7823\n",
            "Epoch 168/172\n",
            "5/5 [==============================] - 1s 111ms/step - loss: 1.1788 - accuracy: 0.6046 - val_loss: 0.6415 - val_accuracy: 0.7823\n",
            "Epoch 169/172\n",
            "5/5 [==============================] - 1s 120ms/step - loss: 1.1153 - accuracy: 0.6405 - val_loss: 0.7972 - val_accuracy: 0.7339\n",
            "Epoch 170/172\n",
            "5/5 [==============================] - 1s 115ms/step - loss: 1.2214 - accuracy: 0.5774 - val_loss: 0.4911 - val_accuracy: 0.8226\n",
            "Epoch 171/172\n",
            "5/5 [==============================] - 1s 108ms/step - loss: 1.0242 - accuracy: 0.6765 - val_loss: 0.5413 - val_accuracy: 0.7984\n",
            "Epoch 172/172\n",
            "5/5 [==============================] - 1s 120ms/step - loss: 1.0946 - accuracy: 0.6452 - val_loss: 0.7872 - val_accuracy: 0.7339\n"
          ]
        }
      ]
    },
    {
      "cell_type": "code",
      "source": [
        "import matplotlib.pyplot as plt\n",
        "\n",
        "# Plot the results\n",
        "acc = history.history['accuracy']\n",
        "#val_acc = history.history['val_accuracy']\n",
        "loss = history.history['loss']\n",
        "#val_loss = history.history['val_loss']\n",
        "\n",
        "epochs = range(len(acc))\n",
        "\n",
        "plt.plot(epochs, acc, 'r', label='Training accuracy')\n",
        "#plt.plot(epochs, val_acc, 'b', label='Validation accuracy')\n",
        "plt.title('Training and validation accuracy')\n",
        "plt.legend(loc=0)\n",
        "plt.figure()\n",
        "\n",
        "plt.show()"
      ],
      "metadata": {
        "colab": {
          "base_uri": "https://localhost:8080/",
          "height": 299
        },
        "id": "E2II48ecgI2z",
        "outputId": "45fa392c-f1b9-450d-9a1a-4cdc8ae1930a"
      },
      "execution_count": 20,
      "outputs": [
        {
          "output_type": "display_data",
          "data": {
            "text/plain": [
              "<Figure size 432x288 with 1 Axes>"
            ],
            "image/png": "[encoded data removed]"
          },
          "metadata": {
            "needs_background": "light"
          }
        },
        {
          "output_type": "display_data",
          "data": {
            "text/plain": [
              "<Figure size 432x288 with 0 Axes>"
            ]
          },
          "metadata": {}
        }
      ]
    },
    {
      "cell_type": "code",
      "source": [
        "import numpy as np\n",
        "from google.colab import files\n",
        "from keras.preprocessing import image\n",
        "\n",
        "uploaded = files.upload()\n",
        "\n",
        "for fn in uploaded.keys():\n",
        " \n",
        "  # predicting images\n",
        "  path = fn\n",
        "  img = image.load_img(path, target_size=(28, 28))\n",
        "  x = image.img_to_array(img)\n",
        "  x = np.expand_dims(x, axis=0)\n",
        "\n",
        "  images = np.vstack([x])\n",
        "  classes = model.predict(images, batch_size=10)\n",
        "  print(fn)\n",
        "  print(classes)\n",
        "  result = int(np.argmax(classes))\n",
        "  dictionary = {0:'0', 1:'1', 2 :'2', 3:'3', 4:'4', 5:'5', 6:'6', 7:'7', 8:'8', 9:'9', 10:'A',\n",
        "    11:'B', 12:'C', 13:'D', 14:'E', 15:'F', 16:'G', 17:'H', 18:'I', 19:'J', 20:'K',\n",
        "    21:'L', 22:'M', 23:'N', 24:'O', 25:'P', 26:'Q', 27:'R', 28:'S', 29:'T',\n",
        "    30:'U', 31:'V', 32:'W', 33:'X', 34:'Y', 35:'Z'}\n",
        "  print(dictionary[result])"
      ],
      "metadata": {
        "colab": {
          "resources": {
            "http://localhost:8080/nbextensions/google.colab/files.js": {
              "data": "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",
              "ok": true,
              "headers": [
                [
                  "content-type",
                  "application/javascript"
                ]
              ],
              "status": 200,
              "status_text": ""
            }
          },
          "base_uri": "https://localhost:8080/",
          "height": 148
        },
        "id": "HwCU2JCXg1pL",
        "outputId": "3fd8ec0a-e4ef-43cd-e20f-9160c81f2962"
      },
      "execution_count": 24,
      "outputs": [
        {
          "output_type": "display_data",
          "data": {
            "text/plain": [
              "<IPython.core.display.HTML object>"
            ],
            "text/html": [
              "\n",
              "     <input type=\"file\" id=\"files-30beb403-5215-4587-88db-4bdae3304105\" name=\"files[]\" multiple disabled\n",
              "        style=\"border:none\" />\n",
              "     <output id=\"result-30beb403-5215-4587-88db-4bdae3304105\">\n",
              "      Upload widget is only available when the cell has been executed in the\n",
              "      current browser session. Please rerun this cell to enable.\n",
              "      </output>\n",
              "      <script src=\"/nbextensions/google.colab/files.js\"></script> "
            ]
          },
          "metadata": {}
        },
        {
          "output_type": "stream",
          "name": "stdout",
          "text": [
            "Saving test4.jpg to test4 (1).jpg\n",
            "test4.jpg\n",
            "[[0. 0. 0. 0. 0. 1. 0. 0. 0. 0. 0. 0. 0. 0. 0. 0. 0. 0. 0. 0. 0. 0. 0. 0.\n",
            "  0. 0. 0. 0. 0. 0. 0. 0. 0. 0. 0. 0.]]\n",
            "5\n"
          ]
        }
      ]
    }
  ]
}