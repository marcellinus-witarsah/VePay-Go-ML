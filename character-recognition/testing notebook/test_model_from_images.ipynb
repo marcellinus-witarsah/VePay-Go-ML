{
  "nbformat": 4,
  "nbformat_minor": 0,
  "metadata": {
    "colab": {
      "name": "test_model_from_images.ipynb",
      "provenance": [],
      "collapsed_sections": []
    },
    "kernelspec": {
      "name": "python3",
      "display_name": "Python 3"
    },
    "language_info": {
      "name": "python"
    },
    "accelerator": "GPU"
  },
  "cells": [
    {
      "cell_type": "code",
      "source": [
        "from google.colab import drive\n",
        "drive.mount('/content/drive/')"
      ],
      "metadata": {
        "colab": {
          "base_uri": "https://localhost:8080/"
        },
        "id": "a8yDJeaI7fDO",
        "outputId": "c802bdb4-4286-4047-b987-dbf168f8f5c2"
      },
      "execution_count": null,
      "outputs": [
        {
          "output_type": "stream",
          "name": "stdout",
          "text": [
            "Mounted at /content/drive/\n"
          ]
        }
      ]
    },
    {
      "cell_type": "code",
      "execution_count": null,
      "metadata": {
        "id": "amSMLwALnDlo"
      },
      "outputs": [],
      "source": [
        "from google.colab import files\n",
        "import tensorflow as tf"
      ]
    },
    {
      "cell_type": "code",
      "source": [
        "model = tf.keras.models.load_model('/content/drive/MyDrive/Capstone Project/binary_model_ori_v4_64.h5')\n",
        "model.summary()"
      ],
      "metadata": {
        "colab": {
          "base_uri": "https://localhost:8080/"
        },
        "id": "drvourR1n-Ns",
        "outputId": "a149e1f7-f025-43be-82eb-6e7d0e99d9fb"
      },
      "execution_count": null,
      "outputs": [
        {
          "output_type": "stream",
          "name": "stdout",
          "text": [
            "Model: \"sequential\"\n",
            "_________________________________________________________________\n",
            " Layer (type)                Output Shape              Param #   \n",
            "=================================================================\n",
            " conv2d (Conv2D)             (None, 62, 62, 32)        320       \n",
            "                                                                 \n",
            " max_pooling2d (MaxPooling2D  (None, 31, 31, 32)       0         \n",
            " )                                                               \n",
            "                                                                 \n",
            " conv2d_1 (Conv2D)           (None, 29, 29, 64)        18496     \n",
            "                                                                 \n",
            " max_pooling2d_1 (MaxPooling  (None, 14, 14, 64)       0         \n",
            " 2D)                                                             \n",
            "                                                                 \n",
            " dropout (Dropout)           (None, 14, 14, 64)        0         \n",
            "                                                                 \n",
            " conv2d_2 (Conv2D)           (None, 12, 12, 64)        36928     \n",
            "                                                                 \n",
            " max_pooling2d_2 (MaxPooling  (None, 6, 6, 64)         0         \n",
            " 2D)                                                             \n",
            "                                                                 \n",
            " dropout_1 (Dropout)         (None, 6, 6, 64)          0         \n",
            "                                                                 \n",
            " flatten (Flatten)           (None, 2304)              0         \n",
            "                                                                 \n",
            " dense (Dense)               (None, 128)               295040    \n",
            "                                                                 \n",
            " dropout_2 (Dropout)         (None, 128)               0         \n",
            "                                                                 \n",
            " dense_1 (Dense)             (None, 64)                8256      \n",
            "                                                                 \n",
            " dense_2 (Dense)             (None, 36)                2340      \n",
            "                                                                 \n",
            "=================================================================\n",
            "Total params: 361,380\n",
            "Trainable params: 361,380\n",
            "Non-trainable params: 0\n",
            "_________________________________________________________________\n"
          ]
        }
      ]
    },
    {
      "cell_type": "code",
      "source": [
        "import numpy as np\n",
        "from google.colab import files\n",
        "from keras.preprocessing import image\n",
        "\n",
        "\n",
        "dictionary = {0:'0', 1:'1', 2 :'2', 3:'3', 4:'4', 5:'5', 6:'6', 7:'7', 8:'8', 9:'9', 10:'A',\n",
        "    11:'B', 12:'C', 13:'D', 14:'E', 15:'F', 16:'G', 17:'H', 18:'I', 19:'J', 20:'K',\n",
        "    21:'L', 22:'M', 23:'N', 24:'O', 25:'P', 26:'Q', 27:'R', 28:'S', 29:'T',\n",
        "    30:'U', 31:'V', 32:'W', 33:'X', 34:'Y', 35:'Z'}"
      ],
      "metadata": {
        "id": "ly4CwhlOfPnT"
      },
      "execution_count": null,
      "outputs": []
    },
    {
      "cell_type": "code",
      "source": [
        "import zipfile\n",
        "import os\n",
        "test_zip = '/content/drive/MyDrive/Capstone Project/OCR_dataset_edit.zip'\n",
        "zip_ref = zipfile.ZipFile(test_zip, 'r')\n",
        "zip_ref.extractall('/tmp/')\n",
        "zip_ref.close()"
      ],
      "metadata": {
        "id": "r6dlRpUH6u_0"
      },
      "execution_count": null,
      "outputs": []
    },
    {
      "cell_type": "code",
      "source": [
        "uploaded = files.upload()\n",
        "\n",
        "dictionary = {0:'0', 1:'1', 2 :'2', 3:'3', 4:'4', 5:'5', 6:'6', 7:'7', 8:'8', 9:'9', 10:'A',\n",
        "    11:'B', 12:'C', 13:'D', 14:'E', 15:'F', 16:'G', 17:'H', 18:'I', 19:'J', 20:'K',\n",
        "    21:'L', 22:'M', 23:'N', 24:'O', 25:'P', 26:'Q', 27:'R', 28:'S', 29:'T',\n",
        "    30:'U', 31:'V', 32:'W', 33:'X', 34:'Y', 35:'Z'}\n",
        "    \n",
        "for fn in uploaded.keys():\n",
        " \n",
        "  # predicting images\n",
        "  path = fn\n",
        "  img = image.load_img(path,color_mode='grayscale', target_size=(50, 100))\n",
        "  x = image.img_to_array(img)\n",
        "  x = np.expand_dims(x, axis=0)\n",
        "\n",
        "  images = np.vstack([x])\n",
        "  classes = model.predict(images, batch_size=32)\n",
        "  print(fn)\n",
        "  print(classes)\n",
        "  result = np.argmax(classes)\n",
        "  print(np.amax(classes)*100)\n",
        "  \n",
        "  print(dictionary[result])"
      ],
      "metadata": {
        "colab": {
          "resources": {
            "http://localhost:8080/nbextensions/google.colab/files.js": {
              "data": "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",
              "ok": true,
              "headers": [
                [
                  "content-type",
                  "application/javascript"
                ]
              ],
              "status": 200,
              "status_text": ""
            }
          },
          "base_uri": "https://localhost:8080/",
          "height": 1000
        },
        "id": "XsLSL1M1dfvk",
        "outputId": "15ce78d3-77c4-4515-e3e6-bbe90c76c04f"
      },
      "execution_count": null,
      "outputs": [
        {
          "output_type": "display_data",
          "data": {
            "text/plain": [
              "<IPython.core.display.HTML object>"
            ],
            "text/html": [
              "\n",
              "     <input type=\"file\" id=\"files-178c99c9-9b17-4f65-b635-d2c00eb59526\" name=\"files[]\" multiple disabled\n",
              "        style=\"border:none\" />\n",
              "     <output id=\"result-178c99c9-9b17-4f65-b635-d2c00eb59526\">\n",
              "      Upload widget is only available when the cell has been executed in the\n",
              "      current browser session. Please rerun this cell to enable.\n",
              "      </output>\n",
              "      <script src=\"/nbextensions/google.colab/files.js\"></script> "
            ]
          },
          "metadata": {}
        },
        {
          "output_type": "stream",
          "name": "stdout",
          "text": [
            "Saving test1.jpg to test1.jpg\n",
            "Saving test2.jpg to test2.jpg\n",
            "Saving test3.jpg to test3.jpg\n",
            "Saving test4.jpg to test4.jpg\n",
            "Saving test5.jpg to test5.jpg\n",
            "Saving test6.jpg to test6.jpg\n",
            "Saving test8.jpg to test8.jpg\n",
            "Saving test9.jpg to test9.jpg\n",
            "test1.jpg\n",
            "[[2.0711012e-08 3.5525660e-14 9.4605587e-11 6.9883994e-12 4.2788174e-14\n",
            "  1.2649628e-11 2.1988785e-04 6.1170670e-15 9.8743653e-03 7.8065915e-10\n",
            "  5.6331501e-10 9.8987961e-01 7.5317058e-14 2.5243027e-10 5.6029485e-08\n",
            "  3.3870740e-12 9.5775010e-07 2.6171963e-06 2.7779142e-14 9.0728060e-16\n",
            "  2.8051284e-13 6.0340840e-19 1.1213849e-12 7.6626613e-12 2.2454584e-05\n",
            "  8.4924139e-08 4.1470518e-11 2.1106413e-08 1.0569528e-10 3.1724848e-17\n",
            "  8.2894764e-14 3.8879477e-15 2.0256745e-10 3.8058855e-17 7.5683585e-17\n",
            "  1.2008386e-10]]\n",
            "98.98796081542969\n",
            "B\n",
            "test2.jpg\n",
            "[[1.8279944e-12 9.9982053e-01 4.9364185e-10 6.6445307e-07 1.2168815e-10\n",
            "  1.4183279e-09 3.0549450e-12 1.7836070e-04 1.8905071e-10 4.5309985e-11\n",
            "  1.3778301e-09 7.4288103e-10 3.0103398e-14 9.3859677e-11 1.9265091e-12\n",
            "  1.1736548e-13 4.3920240e-10 8.8503371e-12 4.3758675e-07 2.9128631e-13\n",
            "  1.4213561e-12 1.4564191e-14 1.8941029e-09 2.0528110e-10 1.6798882e-09\n",
            "  1.0848388e-09 2.6848489e-12 1.4894053e-10 4.3951284e-12 2.2994845e-08\n",
            "  1.5594207e-12 7.2620632e-11 3.6237999e-11 3.7481851e-11 2.4653499e-08\n",
            "  4.4000839e-09]]\n",
            "99.98205304145813\n",
            "1\n",
            "test3.jpg\n",
            "[[1.05858533e-07 1.33347767e-05 9.81296957e-01 4.56463312e-07\n",
            "  5.89307714e-10 1.33685940e-09 6.62797386e-11 1.82368867e-02\n",
            "  1.16704307e-07 6.62946320e-08 2.15729049e-11 1.31489514e-07\n",
            "  1.36856665e-10 1.30798398e-07 1.55876219e-08 3.39009606e-15\n",
            "  3.13460480e-10 1.39475220e-11 1.81702375e-10 3.56294834e-08\n",
            "  1.80202397e-14 1.01807735e-16 1.69614080e-11 5.99062195e-13\n",
            "  2.49939652e-10 1.13024956e-09 5.41611200e-10 9.36296090e-08\n",
            "  2.18352580e-09 8.71379502e-09 9.36311033e-14 7.46276196e-13\n",
            "  1.13940475e-10 6.37790307e-11 3.09211830e-13 4.51653643e-04]]\n",
            "98.1296956539154\n",
            "2\n",
            "test4.jpg\n",
            "[[3.4690603e-10 3.2745006e-14 9.9870383e-16 3.3052544e-10 5.1492483e-16\n",
            "  1.0000000e+00 1.3517884e-10 5.0317421e-08 3.3213024e-12 4.3123694e-10\n",
            "  1.1863579e-13 1.2977791e-15 6.7703148e-16 2.9822292e-10 6.5833576e-14\n",
            "  1.2997404e-16 1.9682206e-11 2.0096507e-13 3.8328944e-15 2.6241839e-10\n",
            "  2.4538114e-18 2.7816387e-16 6.5243839e-13 1.0800489e-17 1.1723166e-14\n",
            "  6.6150666e-17 2.9712291e-19 8.3697430e-21 3.3842640e-09 4.2662045e-17\n",
            "  4.9514479e-11 1.4444784e-15 2.2188983e-18 5.2537250e-19 3.9819476e-15\n",
            "  4.7359323e-17]]\n",
            "100.0\n",
            "5\n",
            "test5.jpg\n",
            "[[1.6225173e-16 4.9610745e-12 6.3668512e-07 1.7758116e-12 9.9998200e-01\n",
            "  2.6353107e-11 5.3986912e-11 1.3391210e-09 5.5395796e-12 5.7754511e-17\n",
            "  9.3014787e-09 2.8094766e-15 3.4746828e-12 1.1582875e-16 3.6728537e-12\n",
            "  6.1189171e-19 1.3222315e-15 6.4305782e-18 4.7424470e-07 1.7743176e-13\n",
            "  1.4482808e-12 2.5651943e-07 2.9278504e-17 9.3145662e-16 5.2117151e-18\n",
            "  5.0100643e-20 2.4608139e-20 1.0656419e-14 2.7473582e-16 3.6977896e-10\n",
            "  7.0094217e-15 3.6067961e-13 4.8526187e-15 1.4521696e-05 7.1376645e-13\n",
            "  2.1050112e-06]]\n",
            "99.99819993972778\n",
            "4\n",
            "test6.jpg\n",
            "[[1.8990524e-14 6.1345243e-13 1.6863637e-11 3.8417786e-14 3.9470927e-11\n",
            "  1.4431624e-09 3.6328012e-07 7.3657226e-14 1.2641374e-10 3.2245890e-12\n",
            "  2.1034765e-09 7.1157928e-09 1.0196821e-10 7.8666041e-12 9.9999714e-01\n",
            "  2.4568587e-06 3.9778397e-10 2.0277848e-12 5.1961419e-10 1.2016416e-18\n",
            "  1.8252233e-12 3.0950522e-09 6.3569234e-17 1.2689409e-16 5.8056661e-14\n",
            "  1.8475955e-11 1.9605954e-17 9.0240397e-13 5.6871891e-10 5.3384657e-13\n",
            "  7.0074016e-19 1.2705610e-12 1.3799216e-14 5.2153303e-12 2.6733164e-14\n",
            "  1.8748687e-12]]\n",
            "99.99971389770508\n",
            "E\n",
            "test8.jpg\n",
            "[[7.24439172e-13 2.52920490e-10 3.25830513e-07 1.98209404e-09\n",
            "  2.81831784e-12 1.02957339e-11 7.74240630e-16 1.48754361e-06\n",
            "  4.20954634e-12 4.81218581e-12 6.21332196e-13 2.52752992e-11\n",
            "  8.74507389e-13 1.10694320e-12 4.45719850e-11 1.02322676e-18\n",
            "  1.96416759e-14 7.55131659e-17 4.16210442e-13 1.09431032e-11\n",
            "  3.81654491e-16 7.60799572e-15 2.43822517e-14 2.14820856e-17\n",
            "  2.75354053e-16 2.69512924e-14 2.00282305e-18 1.40069705e-14\n",
            "  2.08714407e-14 1.31577185e-08 4.06979532e-16 2.40910411e-16\n",
            "  6.35479314e-18 1.12682690e-08 4.97832307e-15 9.99998212e-01]]\n",
            "99.99982118606567\n",
            "Z\n",
            "test9.jpg\n",
            "[[1.03631241e-15 1.10778149e-11 9.31955251e-14 7.95874000e-13\n",
            "  2.46173637e-11 1.71608878e-08 4.87090745e-07 6.78463813e-11\n",
            "  2.07232009e-09 1.47763627e-14 1.67924987e-13 5.45866442e-11\n",
            "  2.39187142e-10 1.01724244e-14 9.06484630e-08 9.99189079e-01\n",
            "  6.51413457e-09 7.36109268e-06 1.09860199e-09 3.42040507e-18\n",
            "  2.84593558e-08 9.72302208e-13 2.07475486e-14 2.32186340e-12\n",
            "  2.45289206e-11 8.01762624e-04 1.69401229e-17 1.72431839e-07\n",
            "  1.40772130e-10 4.73901862e-10 4.19776654e-15 9.76225124e-07\n",
            "  4.43481640e-11 6.57189253e-16 1.01535454e-10 2.17365102e-12]]\n",
            "99.91890788078308\n",
            "F\n"
          ]
        }
      ]
    }
  ]
}